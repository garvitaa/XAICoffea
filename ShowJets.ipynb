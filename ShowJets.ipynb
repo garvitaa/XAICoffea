{
 "cells": [
  {
   "cell_type": "markdown",
   "metadata": {},
   "source": [
    "# Plotting jets as images"
   ]
  },
  {
   "cell_type": "code",
   "execution_count": 1,
   "metadata": {},
   "outputs": [],
   "source": [
    "import time\n",
    "from coffea import hist\n",
    "from coffea.analysis_objects import JaggedCandidateArray\n",
    "import coffea.processor as processor\n",
    "from awkward import JaggedArray\n",
    "import numpy as np\n",
    "import glob as glob\n",
    "import itertools\n",
    "import json\n",
    "import uproot_methods\n",
    "import copy\n",
    "from coord_transform import *\n",
    "import tensorflow as tf\n",
    "import pandas as pd"
   ]
  },
  {
   "cell_type": "code",
   "execution_count": 2,
   "metadata": {},
   "outputs": [],
   "source": [
    "def pseudorapidity(theta):\n",
    "    return -np.log(np.tan(theta*0.5))"
   ]
  },
  {
   "cell_type": "code",
   "execution_count": 3,
   "metadata": {},
   "outputs": [],
   "source": [
    "def dataStream(output):\n",
    "    image = output['flippedImages'].value\n",
    "    jetPt = output['jetPt'].value\n",
    "    jetEta = output['jetEta'].value\n",
    "    jetPhi = output['jetPhi'].value\n",
    "    jetconstEvnum = output['jetconstEvnum'].value\n",
    "    jetconstEta = output['jetconstEta'].value\n",
    "    jetconstPhi = output['jetconstPhi'].value\n",
    "    jetconstPt = output['jetconstPt'].value\n",
    "    labels = output['label'].value\n",
    "    np.savez('/mnt/data/ml/ShowJetsData', jetImages = image, jetPt = jetPt,\n",
    "             jetEta = jetEta, jetPhi = jetPhi, labels = labels)\n",
    "    np.savez('/mnt/data/ml/Constituent4vecData', jetconstEvnum=jetconstEvnum, jetconstPt = jetconstPt,\n",
    "             jetconstEta = jetconstEta, jetconstPhi = jetconstPhi, labels = labels)\n",
    "    dataset = tf.data.Dataset.from_tensor_slices((labels, jetPt, jetEta, jetPhi, image))\n",
    "    return dataset"
   ]
  },
  {
   "cell_type": "code",
   "execution_count": 4,
   "metadata": {},
   "outputs": [],
   "source": [
    "def transform_to_softdrop_axes(jetparticles,Jets):\n",
    "    \n",
    "    subjet0leading = (Jets.subjet0_pt > Jets.subjet1_pt)\n",
    "    centroid1_pt = np.where( subjet0leading, Jets.subjet0_pt, Jets.subjet1_pt  )\n",
    "    centroid1_eta = np.where( subjet0leading, Jets.subjet0_eta, Jets.subjet1_eta  )\n",
    "    centroid1_phi = np.where( subjet0leading, Jets.subjet0_phi, Jets.subjet1_phi  )\n",
    "    centroid1_m = np.where( subjet0leading, Jets.subjet0_m, Jets.subjet1_m  )\n",
    "    centroid2_pt = np.where( subjet0leading, Jets.subjet1_pt, Jets.subjet0_pt,   )\n",
    "    centroid2_eta = np.where( subjet0leading, Jets.subjet1_eta, Jets.subjet0_eta  )\n",
    "    centroid2_phi = np.where( subjet0leading, Jets.subjet1_phi, Jets.subjet0_phi  )\n",
    "    centroid2_m = np.where( subjet0leading, Jets.subjet1_m, Jets.subjet0_m  )\n",
    "    pcentroid1 = uproot_methods.TLorentzVectorArray.from_ptetaphim( centroid1_pt, centroid1_eta, centroid1_phi, centroid1_m )\n",
    "    pcentroid2 = uproot_methods.TLorentzVectorArray.from_ptetaphim( centroid2_pt, centroid2_eta, centroid2_phi, centroid2_m )\n",
    "    \n",
    "    #distance between the two centroids\n",
    "    r0 = pcentroid1.delta_r(pcentroid2)\n",
    "    \n",
    "    centroid1 = uproot_methods.TVector3Array.from_cartesian(pcentroid1.x, pcentroid1.y, pcentroid1.z)\n",
    "    centroid2 = uproot_methods.TVector3Array.from_cartesian(pcentroid2.x, pcentroid2.y, pcentroid2.z)\n",
    "    particle_p3s = uproot_methods.TVector3Array.from_cartesian(jetparticles.p4.x, jetparticles.p4.y, jetparticles.p4.z)\n",
    "    \n",
    "    # Rotate coordinate system so \"centroid1\" is along the x axis\n",
    "    rot1_axis, rot1_angle = coord_rotation( centroid1, uproot_methods.TVector3(1,0,0) )    \n",
    "    centroid1 = centroid1.rotate_axis(rot1_axis, rot1_angle)\n",
    "    centroid2 = centroid2.rotate_axis(rot1_axis, rot1_angle)\n",
    "    particle_p3s = particle_p3s.rotate_axis(rot1_axis, rot1_angle)\n",
    "\n",
    "    # Rotate about the z axis so that centroid2 is pointing down\n",
    "    rot2_angle = -np.arctan2( centroid2.z, centroid2.y )\n",
    "    centroid2 = centroid2.rotatex(rot2_angle)\n",
    "    particle_p3s = particle_p3s.rotatex(rot2_angle)\n",
    "    \n",
    "    # Scale the image so that centroid2 is at (0,1,0)\n",
    "    deta = np.divide(pseudorapidity(particle_p3s.theta),r0)\n",
    "    dphi = np.divide(particle_p3s.phi,r0)\n",
    "        \n",
    "    return deta,dphi,centroid1,centroid2"
   ]
  },
  {
   "cell_type": "code",
   "execution_count": 5,
   "metadata": {},
   "outputs": [],
   "source": [
    "# Look at ProcessorABC to see the expected methods and what they are supposed to do\n",
    "class JetImageProcessor(processor.ProcessorABC):\n",
    "    def __init__(self):\n",
    "        self.eta_bins = 16\n",
    "        self.phi_bins = 16\n",
    "        dataset_axis = hist.Cat(\"dataset\", \"Primary dataset\")\n",
    "        event_axis = hist.Bin(\"event\", \"Event number\", 10000, 0, 10000 )\n",
    "        pdgid_axis = hist.Bin(\"pdgid\", r\"PDG ID\", 10000, -5000, 5000)\n",
    "        eta_axis = hist.Bin(\"eta\", r\"$\\eta$\", 32, -5, 5)\n",
    "        phi_axis = hist.Bin(\"phi\", r\"$\\phi$\", 32, -np.pi, np.pi)\n",
    "        image_dphi = hist.Bin(\"image_dphi\", r\"$Q_1$\", self.phi_bins, -2, 2) #yaxis\n",
    "        image_deta = hist.Bin(\"image_deta\", r\"$Q_2$\", self.eta_bins, -2, 2) #xaxis\n",
    "        pt_axis = hist.Bin(\"pt\", r\"$p_{T}$ [GeV]\", 1000, 0, 5000)\n",
    "        m_axis = hist.Bin(\"m\", r\"$p_{T}$ [GeV]\", 200, 0, 500)\n",
    "        dr_axis = hist.Bin(\"dr\", r\"$\\Delta r$\", 80, 0, 0.8)\n",
    "        \n",
    "        self._accumulator = processor.dict_accumulator({\n",
    "            'pt':hist.Hist(\"Counts\", dataset_axis, pt_axis),\n",
    "            'eta':hist.Hist(\"Counts\", dataset_axis, eta_axis),\n",
    "            'flippedImages': processor.column_accumulator(np.zeros(shape=(0,16,16))),\n",
    "            'jetEta': processor.column_accumulator(np.zeros(shape=(0))),\n",
    "            'jetPhi': processor.column_accumulator(np.zeros(shape=(0))),\n",
    "            'jetPt': processor.column_accumulator(np.zeros(shape=(0))),\n",
    "            'jetconstEvnum': processor.column_accumulator(np.zeros(shape=(0))),\n",
    "            'jetconstEta': processor.column_accumulator(np.zeros(shape=(0))),\n",
    "            'jetconstPhi': processor.column_accumulator(np.zeros(shape=(0))),\n",
    "            'jetconstPt': processor.column_accumulator(np.zeros(shape=(0))),\n",
    "            'label': processor.column_accumulator(np.zeros(shape=(0,2))),\n",
    "            'image':hist.Hist(r\"$p_{T}$\", dataset_axis, event_axis, image_dphi, image_deta),\n",
    "            'dr':hist.Hist(\"Counts\", dataset_axis, dr_axis),\n",
    "            'pdgid':hist.Hist(\"Counts\", dataset_axis, pdgid_axis),\n",
    "            'cutflow': processor.defaultdict_accumulator(int)\n",
    "        })\n",
    "    \n",
    "    @property\n",
    "    def accumulator(self):\n",
    "        return self._accumulator\n",
    "    \n",
    "    def process(self, df):\n",
    "        output = self.accumulator.identity()\n",
    "\n",
    "        \n",
    "        dataset = df['dataset']\n",
    "        evnum = df['eventNum']\n",
    "        \n",
    "        Jets = JaggedCandidateArray.candidatesfromcounts(\n",
    "            df['nJet'],\n",
    "            pt=df['jet_pt'],\n",
    "            eta=df['jet_eta'],\n",
    "            phi=df['jet_phi'],\n",
    "            mass=df['jet_m'],\n",
    "            msd=df['jet_msd'],\n",
    "            subjet0_pt=df['jet_subjet0_pt'],\n",
    "            subjet0_eta=df['jet_subjet0_eta'],\n",
    "            subjet0_phi=df['jet_subjet0_phi'],\n",
    "            subjet0_m=df['jet_subjet0_m'],\n",
    "            subjet1_pt=df['jet_subjet1_pt'],\n",
    "            subjet1_eta=df['jet_subjet1_eta'],\n",
    "            subjet1_phi=df['jet_subjet1_phi'],\n",
    "            subjet1_m=df['jet_subjet1_m'],\n",
    "            ic=df['jet_ic']\n",
    "            )        \n",
    "        constituents = JaggedCandidateArray.candidatesfromcounts(\n",
    "            df['nConstituent'],\n",
    "            pt=df['constituent_pt'],\n",
    "            eta=df['constituent_eta'],\n",
    "            phi=df['constituent_phi'],\n",
    "            mass=df['constituent_m'],\n",
    "            pdgid=df['constituent_id']\n",
    "            )\n",
    "        deta,dphi,centroid1,centroid2= transform_to_softdrop_axes(constituents, Jets[:,0])        \n",
    "        constituents.add_attributes( deta=deta )\n",
    "        constituents.add_attributes( dphi=dphi )\n",
    "        \n",
    "        constituents = constituents[constituents.pt > 1]\n",
    "        \n",
    "        Jets = Jets[Jets.pt > 200]\n",
    "        oneJet = (Jets.counts >=1)\n",
    "        Jets = Jets[oneJet]\n",
    "        constituents = constituents[oneJet]\n",
    "        \n",
    "        \n",
    "        validImages = np.zeros(int(np.max(evnum)+1), dtype=bool)\n",
    "        evnum = evnum[oneJet]\n",
    "        validImages[evnum] = True\n",
    "                \n",
    "        dr = Jets[:,0].p4.delta_r(constituents.p4)\n",
    "        jetconstituents = constituents[dr < 0.8]\n",
    "\n",
    "        deta = jetconstituents.deta\n",
    "        dphi = jetconstituents.dphi\n",
    "        \n",
    "        # Get the leading 20 constituents in each event for\n",
    "        # output to a npz file for deepak8 like architechtures. \n",
    "        truncated_constituents = jetconstituents[jetconstituents.pt.argsort()][:,:20]\n",
    "\n",
    "        # Make a Jagged Array of event numbers with the correct offsets\n",
    "        jaggedshape = JaggedArray.fromoffsets( jetconstituents.offsets, np.ones(deta.flatten().shape[0]))\n",
    "        eventReshaped = jaggedshape * evnum        \n",
    "        \n",
    "        # Performing parity flip so that sum(right) is higher than sum(left) for each image\n",
    "        eventbins = np.arange(len(validImages)+1)\n",
    "        xbins= np.linspace(-2,2,num=self.eta_bins+1)\n",
    "        ybins= np.linspace(-2,2,num=self.phi_bins+1)\n",
    "        \n",
    "        # For the images, normalize each constituent to the jet pt\n",
    "        # to remove any pt dependence\n",
    "        const_pts = jetconstituents.pt\n",
    "        normed_pts = const_pts / Jets[:,0].p4.pt\n",
    "        \n",
    "        #print('normed_pts = ', normed_pts)\n",
    "        \n",
    "        H_images = np.histogramdd((eventReshaped.flatten(),dphi.flatten(),deta.flatten()),\n",
    "                    bins=(eventbins ,ybins, xbins), weights = normed_pts.flatten())[0]\n",
    "        H_images = H_images[validImages]\n",
    "        mask = (np.sum(H_images[:,:,:int(self.eta_bins/2)], axis = (1,2)) < np.sum(H_images[:,:,int(self.eta_bins/2):], axis = (1,2)))\n",
    "        sign = np.where(mask, 1, -1)\n",
    "        deta = (sign*deta)\n",
    "        H_images_new = np.histogramdd((eventReshaped.flatten(),dphi.flatten(),deta.flatten()),\n",
    "                    bins=(eventbins ,ybins, xbins), weights = normed_pts.flatten())[0]\n",
    "\n",
    "        if (\"Zprime\" in dataset):\n",
    "            labels = np.ones([len(deta),2])\n",
    "            labels[:,0]=1\n",
    "        else:\n",
    "            labels = np.zeros([len(deta),2])\n",
    "            labels[:,1]=1\n",
    "        \n",
    "        output['pt'].fill(dataset=dataset,\n",
    "                          pt=Jets.pt[:,0].flatten())\n",
    "        output['eta'].fill(dataset=dataset,\n",
    "                           eta=Jets.eta[:,0].flatten())\n",
    "        output['flippedImages'] += processor.column_accumulator(H_images_new[validImages])\n",
    "        output['jetPt'] += processor.column_accumulator(Jets.pt[:,0].flatten())\n",
    "        output['jetEta'] += processor.column_accumulator(Jets.eta[:,0].flatten())\n",
    "        output['jetPhi'] += processor.column_accumulator(Jets.phi[:,0].flatten())\n",
    "        output['jetconstEvnum'] += processor.column_accumulator(eventReshaped[:,:20].flatten())\n",
    "        output['jetconstPt'] += processor.column_accumulator(truncated_constituents.p4.pt.flatten())\n",
    "        output['jetconstEta'] += processor.column_accumulator(truncated_constituents.p4.eta.flatten())\n",
    "        output['jetconstPhi'] += processor.column_accumulator(truncated_constituents.p4.phi.flatten())\n",
    "        output['label'] += processor.column_accumulator(labels)\n",
    "        output['image'].fill(dataset=dataset,\n",
    "                            event=eventReshaped.flatten(), \n",
    "                            image_deta=deta.flatten(),\n",
    "                            image_dphi=dphi.flatten(),\n",
    "                            weight=normed_pts.flatten())\n",
    "        output['dr'].fill(dataset=dataset,\n",
    "                          dr=dr.flatten())\n",
    "        output['pdgid'].fill(dataset=dataset,\n",
    "                             pdgid=jetconstituents.pdgid.flatten())\n",
    "        \n",
    "        return output\n",
    "\n",
    "    def postprocess(self, accumulator):\n",
    "        return accumulator"
   ]
  },
  {
   "cell_type": "code",
   "execution_count": 6,
   "metadata": {
    "scrolled": true
   },
   "outputs": [
    {
     "data": {
      "application/vnd.jupyter.widget-view+json": {
       "model_id": "e0af29e4c1184f2bac60cb7721200ecc",
       "version_major": 2,
       "version_minor": 0
      },
      "text/plain": [
       "HBox(children=(IntProgress(value=0, description='Preprocessing', max=4, style=ProgressStyle(description_width=…"
      ]
     },
     "metadata": {},
     "output_type": "display_data"
    },
    {
     "name": "stdout",
     "output_type": "stream",
     "text": [
      "\n"
     ]
    },
    {
     "data": {
      "application/vnd.jupyter.widget-view+json": {
       "model_id": "667ef159b4e14ba6a5b610deb2628c60",
       "version_major": 2,
       "version_minor": 0
      },
      "text/plain": [
       "HBox(children=(IntProgress(value=0, description='Processing', max=4, style=ProgressStyle(description_width='in…"
      ]
     },
     "metadata": {},
     "output_type": "display_data"
    },
    {
     "name": "stdout",
     "output_type": "stream",
     "text": [
      "\n"
     ]
    }
   ],
   "source": [
    "fileset={\n",
    "     'Zprime1TeV':['/mnt/data/ml/gravkk_zz_1TeV_addevnum.root'],\n",
    "     'Zprime2TeV':['/mnt/data/ml/gravkk_zz_2TeV_addevnum.root'],\n",
    "     'Zprime3TeV':['/mnt/data/ml/gravkk_zz_3TeV_addevnum.root'],\n",
    "     'QCD':['/mnt/data/ml/qcd_flat15to7000_addevnum.root']\n",
    "}\n",
    "tstart = time.time() \n",
    "output = processor.run_uproot_job(fileset,\n",
    "                                  treename='T',\n",
    "                                  processor_instance=JetImageProcessor(),\n",
    "                                  executor=processor.futures_executor,\n",
    "                                  executor_args={'workers':4, 'flatten': True},\n",
    "                                  chunksize=5000, maxchunks=0)\n",
    "elapsed = time.time() - tstart\n",
    "# print(output)"
   ]
  },
  {
   "cell_type": "code",
   "execution_count": 7,
   "metadata": {},
   "outputs": [
    {
     "name": "stdout",
     "output_type": "stream",
     "text": [
      "['pt', 'eta', 'flippedImages', 'jetEta', 'jetPhi', 'jetPt', 'jetconstEvnum', 'jetconstEta', 'jetconstPhi', 'jetconstPt', 'label', 'image', 'dr', 'pdgid', 'cutflow']\n",
      "<TensorSliceDataset shapes: ((2,), (), (), (), (16, 16)), types: (tf.float64, tf.float64, tf.float64, tf.float64, tf.float64)>\n"
     ]
    }
   ],
   "source": [
    "parameters = list(output)\n",
    "print(parameters)\n",
    "batched_dataset = dataStream(output)\n",
    "print(batched_dataset)"
   ]
  },
  {
   "cell_type": "code",
   "execution_count": 19,
   "metadata": {},
   "outputs": [
    {
     "name": "stdout",
     "output_type": "stream",
     "text": [
      "(16896, 16, 16)\n",
      "(334704,)\n"
     ]
    }
   ],
   "source": [
    "CNNimage_traindata = np.load('/mnt/data/ml/ShowJetsData.npz')\n",
    "print(CNNimage_traindata['jetImages'].shape)\n",
    "\n",
    "CNN4vec_traindata = np.load('/mnt/data/ml/Constituent4vecData.npz')\n",
    "print(CNN4vec_traindata['jetconstEvnum'].shape)"
   ]
  },
  {
   "cell_type": "code",
   "execution_count": 9,
   "metadata": {},
   "outputs": [],
   "source": [
    "import matplotlib.pyplot as plt\n",
    "from matplotlib.colors import LogNorm"
   ]
  },
  {
   "cell_type": "code",
   "execution_count": 10,
   "metadata": {},
   "outputs": [
    {
     "name": "stdout",
     "output_type": "stream",
     "text": [
      "Figure(432x288)\n"
     ]
    },
    {
     "data": {
      "image/png": "[encoded data removed]",
      "text/plain": [
       "<Figure size 432x288 with 2 Axes>"
      ]
     },
     "metadata": {
      "needs_background": "light"
     },
     "output_type": "display_data"
    }
   ],
   "source": [
    "fig, ax, grid = hist.plot2d(output['image'].integrate('dataset', 'Zprime1TeV').integrate(\"event\",1),xaxis='image_deta', patch_opts={'norm':LogNorm(vmin=1e-3, vmax=1),'cmap':'Greens'})\n",
    "print(fig)\n",
    "fig.savefig(\"Zprime1TeV_eventImage_vectorised.png\")"
   ]
  },
  {
   "cell_type": "code",
   "execution_count": 11,
   "metadata": {},
   "outputs": [
    {
     "name": "stdout",
     "output_type": "stream",
     "text": [
      "Figure(432x288)\n"
     ]
    },
    {
     "data": {
      "image/png": "[encoded data removed]",
      "text/plain": [
       "<Figure size 432x288 with 2 Axes>"
      ]
     },
     "metadata": {
      "needs_background": "light"
     },
     "output_type": "display_data"
    }
   ],
   "source": [
    "fig, ax, grid = hist.plot2d(output['image'].integrate('dataset', 'Zprime1TeV').integrate(\"event\"),xaxis='image_deta', patch_opts={'norm':LogNorm(vmin=1, vmax=1e3),'cmap':'Greens'})\n",
    "print(fig)\n",
    "fig.savefig(\"Zprime1TeV_image_vectorised.png\")"
   ]
  },
  {
   "cell_type": "code",
   "execution_count": 12,
   "metadata": {
    "scrolled": true
   },
   "outputs": [
    {
     "name": "stdout",
     "output_type": "stream",
     "text": [
      "Figure(432x288)\n"
     ]
    },
    {
     "data": {
      "image/png": "[encoded data removed]",
      "text/plain": [
       "<Figure size 432x288 with 2 Axes>"
      ]
     },
     "metadata": {
      "needs_background": "light"
     },
     "output_type": "display_data"
    }
   ],
   "source": [
    "fig, ax, grid = hist.plot2d(output['image'].integrate('dataset', 'Zprime2TeV').integrate(\"event\"),xaxis='image_deta', patch_opts={'norm':LogNorm(vmin=1, vmax=1e3),'cmap':'Greens'})\n",
    "print(fig)\n",
    "fig.savefig(\"Zprime2TeV_image.png\")"
   ]
  },
  {
   "cell_type": "code",
   "execution_count": 13,
   "metadata": {},
   "outputs": [
    {
     "name": "stdout",
     "output_type": "stream",
     "text": [
      "Figure(432x288)\n"
     ]
    },
    {
     "data": {
      "image/png": "[encoded data removed]",
      "text/plain": [
       "<Figure size 432x288 with 2 Axes>"
      ]
     },
     "metadata": {
      "needs_background": "light"
     },
     "output_type": "display_data"
    }
   ],
   "source": [
    "fig, ax, grid = hist.plot2d(output['image'].integrate('dataset', 'Zprime3TeV').integrate(\"event\"),xaxis='image_deta', patch_opts={'norm':LogNorm(vmin=1, vmax=1e3),'cmap':'Greens'})\n",
    "print(fig)\n",
    "fig.savefig(\"Zprime3TeV_image.png\")"
   ]
  },
  {
   "cell_type": "code",
   "execution_count": 14,
   "metadata": {},
   "outputs": [
    {
     "name": "stdout",
     "output_type": "stream",
     "text": [
      "Figure(432x288)\n"
     ]
    },
    {
     "data": {
      "image/png": "[encoded data removed]",
      "text/plain": [
       "<Figure size 432x288 with 2 Axes>"
      ]
     },
     "metadata": {
      "needs_background": "light"
     },
     "output_type": "display_data"
    }
   ],
   "source": [
    "fig, ax, grid = hist.plot2d(output['image'].integrate('dataset', 'Zprime3TeV').integrate(\"event\",1)\n",
    "                            ,xaxis='image_deta', patch_opts={'norm':LogNorm(vmin=1e-3, vmax=1),'cmap':'Greens'})\n",
    "print(fig)\n",
    "fig.savefig(\"Zprime3TeV_eventImage.png\")"
   ]
  },
  {
   "cell_type": "code",
   "execution_count": 15,
   "metadata": {},
   "outputs": [
    {
     "name": "stdout",
     "output_type": "stream",
     "text": [
      "Figure(432x288)\n"
     ]
    },
    {
     "data": {
      "image/png": "[encoded data removed]",
      "text/plain": [
       "<Figure size 432x288 with 2 Axes>"
      ]
     },
     "metadata": {
      "needs_background": "light"
     },
     "output_type": "display_data"
    }
   ],
   "source": [
    "fig, ax, grid = hist.plot2d(output['image'].integrate('dataset', 'QCD').integrate(\"event\"),xaxis='image_deta', patch_opts={'norm':LogNorm(vmin=1, vmax=1e3),'cmap':'Greens'})\n",
    "print(fig)\n",
    "fig.savefig(\"QCD_image.png\")"
   ]
  },
  {
   "cell_type": "code",
   "execution_count": 16,
   "metadata": {},
   "outputs": [
    {
     "data": {
      "image/png": "[encoded data removed]",
      "text/plain": [
       "<Figure size 432x288 with 1 Axes>"
      ]
     },
     "metadata": {
      "needs_background": "light"
     },
     "output_type": "display_data"
    }
   ],
   "source": [
    "fig, ax = hist.plotgrid(output['dr'], overlay=\"dataset\", stack=False, density=True\n",
    "                                 )\n",
    "for iax in ax.flatten():\n",
    "    iax.autoscale(axis='y')\n",
    "fig.show()\n",
    "fig.savefig(\"dr_plot.png\")"
   ]
  },
  {
   "cell_type": "code",
   "execution_count": 17,
   "metadata": {},
   "outputs": [
    {
     "data": {
      "image/png": "[encoded data removed]",
      "text/plain": [
       "<Figure size 432x288 with 1 Axes>"
      ]
     },
     "metadata": {
      "needs_background": "light"
     },
     "output_type": "display_data"
    }
   ],
   "source": [
    "fig, ax = hist.plotgrid(output['pt'], overlay=\"dataset\", stack=False, density=True\n",
    "                                 )\n",
    "for iax in ax.flatten():\n",
    "    iax.autoscale(axis='y')\n",
    "fig.show()\n",
    "fig.savefig(\"pt_plot.png\")"
   ]
  },
  {
   "cell_type": "code",
   "execution_count": null,
   "metadata": {},
   "outputs": [],
   "source": []
  }
 ],
 "metadata": {
  "kernelspec": {
   "display_name": "Python 3",
   "language": "python",
   "name": "python3"
  },
  "language_info": {
   "codemirror_mode": {
    "name": "ipython",
    "version": 3
   },
   "file_extension": ".py",
   "mimetype": "text/x-python",
   "name": "python",
   "nbconvert_exporter": "python",
   "pygments_lexer": "ipython3",
   "version": "3.6.8"
  }
 },
 "nbformat": 4,
 "nbformat_minor": 2
}
