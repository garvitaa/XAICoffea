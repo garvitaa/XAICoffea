{
 "cells": [
  {
   "cell_type": "code",
   "execution_count": 1,
   "metadata": {},
   "outputs": [
    {
     "name": "stderr",
     "output_type": "stream",
     "text": [
      "/opt/conda/lib/python3.7/site-packages/tensorflow/python/framework/dtypes.py:526: FutureWarning: Passing (type, 1) or '1type' as a synonym of type is deprecated; in a future version of numpy, it will be understood as (type, (1,)) / '(1,)type'.\n",
      "  _np_qint8 = np.dtype([(\"qint8\", np.int8, 1)])\n",
      "/opt/conda/lib/python3.7/site-packages/tensorflow/python/framework/dtypes.py:527: FutureWarning: Passing (type, 1) or '1type' as a synonym of type is deprecated; in a future version of numpy, it will be understood as (type, (1,)) / '(1,)type'.\n",
      "  _np_quint8 = np.dtype([(\"quint8\", np.uint8, 1)])\n",
      "/opt/conda/lib/python3.7/site-packages/tensorflow/python/framework/dtypes.py:528: FutureWarning: Passing (type, 1) or '1type' as a synonym of type is deprecated; in a future version of numpy, it will be understood as (type, (1,)) / '(1,)type'.\n",
      "  _np_qint16 = np.dtype([(\"qint16\", np.int16, 1)])\n",
      "/opt/conda/lib/python3.7/site-packages/tensorflow/python/framework/dtypes.py:529: FutureWarning: Passing (type, 1) or '1type' as a synonym of type is deprecated; in a future version of numpy, it will be understood as (type, (1,)) / '(1,)type'.\n",
      "  _np_quint16 = np.dtype([(\"quint16\", np.uint16, 1)])\n",
      "/opt/conda/lib/python3.7/site-packages/tensorflow/python/framework/dtypes.py:530: FutureWarning: Passing (type, 1) or '1type' as a synonym of type is deprecated; in a future version of numpy, it will be understood as (type, (1,)) / '(1,)type'.\n",
      "  _np_qint32 = np.dtype([(\"qint32\", np.int32, 1)])\n",
      "/opt/conda/lib/python3.7/site-packages/tensorflow/python/framework/dtypes.py:535: FutureWarning: Passing (type, 1) or '1type' as a synonym of type is deprecated; in a future version of numpy, it will be understood as (type, (1,)) / '(1,)type'.\n",
      "  np_resource = np.dtype([(\"resource\", np.ubyte, 1)])\n"
     ]
    },
    {
     "name": "stdout",
     "output_type": "stream",
     "text": [
      "TensorFlow version:  1.13.1\n"
     ]
    }
   ],
   "source": [
    "# TensorFlow and tf.keras\n",
    "import tensorflow as tf\n",
    "from tensorflow import keras\n",
    "from tensorflow.keras import layers\n",
    "from tensorflow.keras import models\n",
    "import tensorflow.keras.utils\n",
    "from tensorflow.keras.utils import multi_gpu_model\n",
    "import pandas as pd\n",
    "\n",
    "from datetime import datetime\n",
    "from packaging import version\n",
    "\n",
    "print(\"TensorFlow version: \", tf.__version__)\n",
    "assert version.parse(tf.__version__).release[0] < 2, \\\n",
    "    \"This notebook does not worl for TensorFlow 2.0\"\n",
    "\n",
    "# Helper libraries\n",
    "import numpy as np\n",
    "import matplotlib.pyplot as plt\n",
    "from matplotlib.colors import LogNorm\n",
    "import math\n",
    "import time\n",
    "import h5py\n",
    "import sklearn\n",
    "from sklearn.utils import shuffle\n",
    "from tensorflow.keras import *\n",
    "\n",
    "import os\n",
    "# from numba import jit"
   ]
  },
  {
   "cell_type": "markdown",
   "metadata": {},
   "source": [
    "# Preparing Data for CNN"
   ]
  },
  {
   "cell_type": "code",
   "execution_count": 2,
   "metadata": {
    "scrolled": true
   },
   "outputs": [
    {
     "name": "stdout",
     "output_type": "stream",
     "text": [
      "['jetImages', 'jetPt', 'jetEta', 'jetPhi', 'tau21', 'chMult', 'neutMult', 'phoMult', 'eleMult', 'muMult', 'jetpull', 'labels']\n"
     ]
    }
   ],
   "source": [
    "dataset = '/mnt/data/ml/ShowJetsData_full.npz'\n",
    "# dataset = '/mnt/data/ml/Constituent4vec_neve210k.npz'\n",
    "data = np.load(dataset)\n",
    "print(data.files)"
   ]
  },
  {
   "cell_type": "code",
   "execution_count": 3,
   "metadata": {},
   "outputs": [],
   "source": [
    "images=np.array(data['jetImages'], dtype=np.float64).reshape(len(data['jetImages']),16,16,1)\n",
    "eta=np.array(data['jetEta'], dtype=np.float64)\n",
    "pt=np.array(data['jetPt'], dtype=np.float64)\n",
    "phi=np.array(data['jetPhi'], dtype=np.float16)\n",
    "tau21=np.array(data['tau21'], dtype=np.float64)\n",
    "jetpull=np.array(np.abs(data['jetpull']/math.pi), dtype=np.float64)\n",
    "labels=np.array(data['labels'], dtype=np.int16)\n",
    "n_ch=np.array(data['chMult'], dtype=np.int16)\n",
    "n_nh=np.array(data['neutMult'], dtype=np.int16)\n",
    "n_gamma=np.array(data['phoMult'], dtype=np.int16)\n",
    "n_e=np.array(data['eleMult'], dtype=np.int16)\n",
    "n_mu=np.array(data['muMult'], dtype=np.int16)\n",
    "# eta=np.array(data['jetconstEta'], dtype=np.float64)\n",
    "# pt=np.array(data['jetconstPt'], dtype=np.float64)\n",
    "# phi=np.array(data['jetconstPhi'], dtype=np.float16)\n",
    "# evnum=np.array(data['jetconstEvnum'], dtype=np.float64)"
   ]
  },
  {
   "cell_type": "markdown",
   "metadata": {},
   "source": [
    "### To make sure siganl and bkg are equal in number for "
   ]
  },
  {
   "cell_type": "code",
   "execution_count": 4,
   "metadata": {},
   "outputs": [],
   "source": [
    "numZ = np.min([np.sum(labels[:,1]==1), np.sum(labels[:,2]==1), np.sum(labels[:,3]==1)])\n",
    "numData = np.min([numZ, np.sum(labels[:,0]==1)])"
   ]
  },
  {
   "cell_type": "code",
   "execution_count": 5,
   "metadata": {},
   "outputs": [],
   "source": [
    "f = np.array(list(zip(images, pt, eta, phi, tau21, jetpull, n_ch, n_nh, n_gamma, n_e, n_mu, labels)))\n",
    "df = pd.DataFrame(data=f, columns=['image', 'pT', 'eta', 'phi', 'tau21', 'jetpull', 'n_ch', 'n_nh', 'n_gamma', 'n_e',\n",
    "                                       'n_mu', 'labels'])"
   ]
  },
  {
   "cell_type": "code",
   "execution_count": 6,
   "metadata": {},
   "outputs": [],
   "source": [
    "# df.dtypes"
   ]
  },
  {
   "cell_type": "code",
   "execution_count": 7,
   "metadata": {},
   "outputs": [],
   "source": [
    "z1= (labels[:,1]==1)\n",
    "z1[np.argwhere(z1==True)[int(numData/3):]] = False\n",
    "\n",
    "z2= (labels[:,2]==1)\n",
    "z2[np.argwhere(z2==True)[int(numData/3):]] = False\n",
    "\n",
    "z3= (labels[:,3]==1)\n",
    "z3[np.argwhere(z3==True)[int(math.ceil(numData/3)):]] = False\n",
    "\n",
    "qcd= (labels[:,0]==1)\n",
    "qcd[np.argwhere(qcd==True)[int(numData):]] = False"
   ]
  },
  {
   "cell_type": "code",
   "execution_count": 8,
   "metadata": {},
   "outputs": [],
   "source": [
    "signal = shuffle(df[pd.Series(z1+z2+z3)]).reset_index(drop=True)\n",
    "sig_labels = np.array(np.zeros((len(signal.index), 2)), dtype=np.int32)\n",
    "sig_labels[:,0]=1\n",
    "sig_labels = pd.Series(sig_labels.tolist())\n",
    "signal = signal.drop(columns=['labels'])\n",
    "signal['labels'] = sig_labels"
   ]
  },
  {
   "cell_type": "code",
   "execution_count": 9,
   "metadata": {},
   "outputs": [],
   "source": [
    "# signal.corr()"
   ]
  },
  {
   "cell_type": "code",
   "execution_count": 10,
   "metadata": {},
   "outputs": [],
   "source": [
    "# Signal image"
   ]
  },
  {
   "cell_type": "code",
   "execution_count": 11,
   "metadata": {},
   "outputs": [
    {
     "data": {
      "image/png": "[encoded data removed]",
      "text/plain": [
       "<Figure size 432x288 with 2 Axes>"
      ]
     },
     "metadata": {
      "needs_background": "light"
     },
     "output_type": "display_data"
    }
   ],
   "source": [
    "sig_images=np.sum(signal['image'],axis=0)\n",
    "display_sig = sig_images.reshape(16,16)\n",
    "plt.grid(False)\n",
    "plt.imshow(display_sig, interpolation='nearest', origin='low', cmap = 'jet', norm=LogNorm())\n",
    "plt.colorbar()\n",
    "plt.title('Signal Images')\n",
    "plt.show()"
   ]
  },
  {
   "cell_type": "code",
   "execution_count": 12,
   "metadata": {},
   "outputs": [],
   "source": [
    "bkg = df[pd.Series(qcd)].reset_index(drop=True)\n",
    "bkg_labels = np.array(np.zeros((len(bkg.index), 2)), dtype=np.int32)\n",
    "bkg_labels[:,1]=1\n",
    "bkg_labels = pd.Series(bkg_labels.tolist())\n",
    "bkg = bkg.drop(columns=['labels'])\n",
    "bkg['labels'] = bkg_labels"
   ]
  },
  {
   "cell_type": "code",
   "execution_count": 13,
   "metadata": {},
   "outputs": [],
   "source": [
    "# bkg.corr()"
   ]
  },
  {
   "cell_type": "markdown",
   "metadata": {},
   "source": [
    "### Background Image -- looks like this because we are selecting jets with atleast 2 subjets"
   ]
  },
  {
   "cell_type": "code",
   "execution_count": 14,
   "metadata": {},
   "outputs": [
    {
     "data": {
      "image/png": "[encoded data removed]",
      "text/plain": [
       "<Figure size 432x288 with 2 Axes>"
      ]
     },
     "metadata": {
      "needs_background": "light"
     },
     "output_type": "display_data"
    }
   ],
   "source": [
    "bkg_images=np.sum(bkg['image'],axis=0)\n",
    "display_bkg = bkg_images.reshape(16,16)\n",
    "plt.grid(False)\n",
    "plt.imshow(display_bkg, interpolation='nearest', origin='low', cmap = 'jet', norm=LogNorm())\n",
    "plt.colorbar()\n",
    "plt.title('Background Images')\n",
    "plt.show()"
   ]
  },
  {
   "cell_type": "code",
   "execution_count": 15,
   "metadata": {},
   "outputs": [],
   "source": [
    "# Displaying some features"
   ]
  },
  {
   "cell_type": "code",
   "execution_count": 16,
   "metadata": {},
   "outputs": [
    {
     "data": {
      "text/plain": [
       "<matplotlib.legend.Legend at 0x7fefec632550>"
      ]
     },
     "execution_count": 16,
     "metadata": {},
     "output_type": "execute_result"
    },
    {
     "data": {
      "image/png": "[encoded data removed]",
      "text/plain": [
       "<Figure size 432x288 with 1 Axes>"
      ]
     },
     "metadata": {
      "needs_background": "light"
     },
     "output_type": "display_data"
    }
   ],
   "source": [
    "signal['jetpull'].hist(bins=25, alpha=0.5, label ='signal')\n",
    "bkg['jetpull'].hist(bins=25, alpha=0.5, label ='bkg')\n",
    "plt.xlabel('pull angle')\n",
    "plt.legend()\n",
    "# plt.savefig('plots/pullangle.png')"
   ]
  },
  {
   "cell_type": "code",
   "execution_count": 17,
   "metadata": {},
   "outputs": [
    {
     "data": {
      "text/plain": [
       "<matplotlib.legend.Legend at 0x7fefeaa0a390>"
      ]
     },
     "execution_count": 17,
     "metadata": {},
     "output_type": "execute_result"
    },
    {
     "data": {
      "image/png": "[encoded data removed]",
      "text/plain": [
       "<Figure size 432x288 with 1 Axes>"
      ]
     },
     "metadata": {
      "needs_background": "light"
     },
     "output_type": "display_data"
    }
   ],
   "source": [
    "signal['pT'].hist(bins=1000, alpha=0.5, label ='signal')\n",
    "bkg['pT'].hist(bins=1000, alpha=0.5, label ='bkg')\n",
    "plt.xlabel('pT')\n",
    "plt.legend()\n",
    "# plt.savefig('plots/jetpT.png')"
   ]
  },
  {
   "cell_type": "code",
   "execution_count": 18,
   "metadata": {},
   "outputs": [
    {
     "data": {
      "text/plain": [
       "<matplotlib.legend.Legend at 0x7fefe7a5b0b8>"
      ]
     },
     "execution_count": 18,
     "metadata": {},
     "output_type": "execute_result"
    },
    {
     "data": {
      "image/png": "[encoded data removed]",
      "text/plain": [
       "<Figure size 432x288 with 1 Axes>"
      ]
     },
     "metadata": {
      "needs_background": "light"
     },
     "output_type": "display_data"
    }
   ],
   "source": [
    "signal['eta'].hist(bins=32, alpha=0.5, label ='signal')\n",
    "bkg['eta'].hist(bins=32, alpha=0.5, label ='bkg')\n",
    "plt.xlabel('eta')\n",
    "plt.legend()\n",
    "# plt.savefig('plots/jeteta.png')"
   ]
  },
  {
   "cell_type": "code",
   "execution_count": 19,
   "metadata": {},
   "outputs": [
    {
     "data": {
      "text/plain": [
       "<matplotlib.legend.Legend at 0x7fefe7246668>"
      ]
     },
     "execution_count": 19,
     "metadata": {},
     "output_type": "execute_result"
    },
    {
     "data": {
      "image/png": "[encoded data removed]",
      "text/plain": [
       "<Figure size 432x288 with 1 Axes>"
      ]
     },
     "metadata": {
      "needs_background": "light"
     },
     "output_type": "display_data"
    }
   ],
   "source": [
    "signal['phi'].hist(bins=25, alpha=0.5, label ='signal')\n",
    "bkg['phi'].hist(bins=25, alpha=0.5, label ='bkg')\n",
    "plt.xlabel('phi')\n",
    "plt.legend()\n",
    "# plt.savefig('plots/jetphi.png')"
   ]
  },
  {
   "cell_type": "code",
   "execution_count": 20,
   "metadata": {},
   "outputs": [
    {
     "data": {
      "text/plain": [
       "<matplotlib.legend.Legend at 0x7fefe667d5c0>"
      ]
     },
     "execution_count": 20,
     "metadata": {},
     "output_type": "execute_result"
    },
    {
     "data": {
      "image/png": "[encoded data removed]",
      "text/plain": [
       "<Figure size 432x288 with 1 Axes>"
      ]
     },
     "metadata": {
      "needs_background": "light"
     },
     "output_type": "display_data"
    }
   ],
   "source": [
    "signal['tau21'].hist(bins=100, alpha=0.5, label ='signal')\n",
    "bkg['tau21'].hist(bins=100, alpha=0.5, label ='bkg')\n",
    "plt.xlabel('tau21')\n",
    "plt.legend()\n",
    "# plt.savefig('plots/jettau21.png')"
   ]
  },
  {
   "cell_type": "code",
   "execution_count": 21,
   "metadata": {},
   "outputs": [
    {
     "data": {
      "text/plain": [
       "<matplotlib.legend.Legend at 0x7fefe62d45c0>"
      ]
     },
     "execution_count": 21,
     "metadata": {},
     "output_type": "execute_result"
    },
    {
     "data": {
      "image/png": "[encoded data removed]",
      "text/plain": [
       "<Figure size 432x288 with 1 Axes>"
      ]
     },
     "metadata": {
      "needs_background": "light"
     },
     "output_type": "display_data"
    }
   ],
   "source": [
    "signal['n_ch'].hist(bins=np.linspace(0,50,50), alpha=0.5, label ='signal')\n",
    "bkg['n_ch'].hist(bins=np.linspace(0,50,50), alpha=0.5, label ='bkg')\n",
    "plt.xlim(0,50)\n",
    "plt.xlabel('Charge Hadron Multiplicity')\n",
    "plt.legend()\n",
    "# plt.savefig('plots/n_ch.png')"
   ]
  },
  {
   "cell_type": "code",
   "execution_count": 22,
   "metadata": {},
   "outputs": [
    {
     "data": {
      "text/plain": [
       "<matplotlib.legend.Legend at 0x7fefe68c8e10>"
      ]
     },
     "execution_count": 22,
     "metadata": {},
     "output_type": "execute_result"
    },
    {
     "data": {
      "image/png": "[encoded data removed]",
      "text/plain": [
       "<Figure size 432x288 with 1 Axes>"
      ]
     },
     "metadata": {
      "needs_background": "light"
     },
     "output_type": "display_data"
    }
   ],
   "source": [
    "signal['n_gamma'].hist(bins=np.linspace(0,100,100), alpha=0.5, label ='signal')\n",
    "bkg['n_gamma'].hist(bins=np.linspace(0,100,100), alpha=0.5, label ='bkg')\n",
    "plt.xlim(0,60)\n",
    "plt.xlabel('Photon Multiplicity')\n",
    "plt.legend()\n",
    "# plt.savefig('plots/n_gamma.png')"
   ]
  },
  {
   "cell_type": "code",
   "execution_count": 23,
   "metadata": {},
   "outputs": [
    {
     "data": {
      "text/plain": [
       "<matplotlib.legend.Legend at 0x7fefe5920940>"
      ]
     },
     "execution_count": 23,
     "metadata": {},
     "output_type": "execute_result"
    },
    {
     "data": {
      "image/png": "[encoded data removed]",
      "text/plain": [
       "<Figure size 432x288 with 1 Axes>"
      ]
     },
     "metadata": {
      "needs_background": "light"
     },
     "output_type": "display_data"
    }
   ],
   "source": [
    "signal['n_mu'].hist(bins=np.linspace(0,100,100), alpha=0.5, label ='signal')\n",
    "bkg['n_mu'].hist(bins=np.linspace(0,100,100), alpha=0.5, label ='bkg')\n",
    "plt.xlim(0,5)\n",
    "plt.xlabel('Muon Multiplicity')\n",
    "plt.legend()\n",
    "# plt.savefig('plots/n_mu.png')"
   ]
  },
  {
   "cell_type": "code",
   "execution_count": 24,
   "metadata": {},
   "outputs": [
    {
     "data": {
      "text/plain": [
       "<matplotlib.legend.Legend at 0x7fefe62fa3c8>"
      ]
     },
     "execution_count": 24,
     "metadata": {},
     "output_type": "execute_result"
    },
    {
     "data": {
      "image/png": "[encoded data removed]",
      "text/plain": [
       "<Figure size 432x288 with 1 Axes>"
      ]
     },
     "metadata": {
      "needs_background": "light"
     },
     "output_type": "display_data"
    }
   ],
   "source": [
    "signal['n_e'].hist(bins=np.linspace(0,100,100), alpha=0.5, label ='signal')\n",
    "bkg['n_e'].hist(bins=np.linspace(0,100,100), alpha=0.5, label ='bkg')\n",
    "plt.xlim(0,5)\n",
    "plt.xlabel('Electron Multiplicity')\n",
    "plt.legend()\n",
    "# plt.savefig('plots/n_e.png')"
   ]
  },
  {
   "cell_type": "code",
   "execution_count": 25,
   "metadata": {},
   "outputs": [
    {
     "data": {
      "text/plain": [
       "<matplotlib.legend.Legend at 0x7fefe62fa860>"
      ]
     },
     "execution_count": 25,
     "metadata": {},
     "output_type": "execute_result"
    },
    {
     "data": {
      "image/png": "[encoded data removed]",
      "text/plain": [
       "<Figure size 432x288 with 1 Axes>"
      ]
     },
     "metadata": {
      "needs_background": "light"
     },
     "output_type": "display_data"
    }
   ],
   "source": [
    "signal['n_nh'].hist(bins=np.linspace(0,50,50), alpha=0.5, label ='signal')\n",
    "bkg['n_nh'].hist(bins=np.linspace(0,50,50), alpha=0.5, label ='bkg')\n",
    "plt.xlim(0,10)\n",
    "plt.xlabel('Neutral Hadron Multiplicity')\n",
    "plt.legend()\n",
    "# plt.savefig('plots/n_nh.png')"
   ]
  },
  {
   "cell_type": "code",
   "execution_count": 26,
   "metadata": {},
   "outputs": [],
   "source": [
    "train_data = shuffle(signal.iloc[:int(numData*0.8)].append(bkg.iloc[:int(numData*0.8)])).reset_index(drop=True)\n",
    "test_data = shuffle(signal.iloc[int(numData*0.8):].append(bkg.iloc[int(numData*0.8):])).reset_index(drop=True)"
   ]
  },
  {
   "cell_type": "markdown",
   "metadata": {},
   "source": [
    "# Image Only CNN"
   ]
  },
  {
   "cell_type": "code",
   "execution_count": 27,
   "metadata": {},
   "outputs": [],
   "source": [
    "def build_model():\n",
    "    input1 = layers.Input(shape = (16, 16,1))\n",
    "    x = layers.Conv2D(32, (8, 8), activation='relu',padding='same', name = 'conv1')(input1)\n",
    "    x = layers.Conv2D(32, (4, 4), activation='relu',padding='same', name = 'conv2')(x)\n",
    "    x = layers.Conv2D(32, (2, 2), activation='relu',padding='same', name = 'conv3')(x)\n",
    "#     x = layers.MaxPool2D((4, 4), name = 'maxpool4x4')(x)\n",
    "#     x = layers.Conv2D(32, (6, 6), activation='relu',padding='same', name = 'conv4')(x)\n",
    "#     x = layers.Conv2D(32, (4, 4), activation='relu',padding='same', name = 'conv5')(x)\n",
    "    x = layers.MaxPool2D((2, 2), name = 'maxpool2x2')(x)\n",
    "    x = layers.Flatten(name = 'flatten')(x)\n",
    "    x = layers.Dense(256, activation='relu', name = 'relu')(x)\n",
    "    output = layers.Dense(2, activation='softmax', name = 'softmax')(x)\n",
    "    model = models.Model(inputs=input1, outputs=output)\n",
    "    \n",
    "    opt=keras.optimizers.Adam(lr=0.001,beta_1=0.9, beta_2=0.999, amsgrad=False)\n",
    "    model.compile(loss='binary_crossentropy',\n",
    "                optimizer=opt,\n",
    "                metrics=['binary_crossentropy', 'accuracy'])\n",
    "    return model"
   ]
  },
  {
   "cell_type": "code",
   "execution_count": 28,
   "metadata": {},
   "outputs": [
    {
     "name": "stdout",
     "output_type": "stream",
     "text": [
      "WARNING:tensorflow:From /opt/conda/lib/python3.7/site-packages/tensorflow/python/ops/resource_variable_ops.py:435: colocate_with (from tensorflow.python.framework.ops) is deprecated and will be removed in a future version.\n",
      "Instructions for updating:\n",
      "Colocations handled automatically by placer.\n"
     ]
    }
   ],
   "source": [
    "ImageonlyCNN = build_model()\n",
    "# ImageonlyCNN.summary()"
   ]
  },
  {
   "cell_type": "code",
   "execution_count": 29,
   "metadata": {},
   "outputs": [
    {
     "name": "stdout",
     "output_type": "stream",
     "text": [
      "10/10 [==============================] - 0s 5ms/sample - loss: 0.6931 - binary_crossentropy: 0.6931 - acc: 0.3000\n",
      "[[0.50003093 0.4999691 ]\n",
      " [0.5009637  0.49903637]\n",
      " [0.50199807 0.49800187]\n",
      " [0.5003682  0.49963185]\n",
      " [0.5004167  0.49958336]\n",
      " [0.50203145 0.49796858]\n",
      " [0.5001095  0.4998905 ]\n",
      " [0.5002221  0.49977797]\n",
      " [0.50100154 0.49899852]\n",
      " [0.50079316 0.4992068 ]]\n",
      "[0.6930807828903198, 0.6930808, 0.3]\n"
     ]
    }
   ],
   "source": [
    "X_batch = np.array(list(train_data['image'][:10].values))\n",
    "Y_batch = np.array(list(train_data['labels'][:10].values))\n",
    "example_result = ImageonlyCNN.predict(x = X_batch)\n",
    "results = ImageonlyCNN.evaluate(x = X_batch, y =Y_batch )\n",
    "print(example_result)\n",
    "print(results)"
   ]
  },
  {
   "cell_type": "code",
   "execution_count": 30,
   "metadata": {
    "scrolled": true
   },
   "outputs": [
    {
     "name": "stdout",
     "output_type": "stream",
     "text": [
      "Train on 635315 samples, validate on 158829 samples\n",
      "WARNING:tensorflow:From /opt/conda/lib/python3.7/site-packages/tensorflow/python/ops/math_ops.py:3066: to_int32 (from tensorflow.python.ops.math_ops) is deprecated and will be removed in a future version.\n",
      "Instructions for updating:\n",
      "Use tf.cast instead.\n",
      "Epoch 1/3\n",
      "635232/635315 [============================>.] - ETA: 0s - loss: 0.5426 - binary_crossentropy: 0.5426 - acc: 0.7295\n",
      "Epoch 00001: val_loss improved from inf to 0.52616, saving model to model/CNN_imageonly_full_final.h1\n",
      "635315/635315 [==============================] - 336s 530us/sample - loss: 0.5426 - binary_crossentropy: 0.5426 - acc: 0.7295 - val_loss: 0.5262 - val_binary_crossentropy: 0.5262 - val_acc: 0.7441\n",
      "Epoch 2/3\n",
      "635296/635315 [============================>.] - ETA: 0s - loss: 0.5243 - binary_crossentropy: 0.5243 - acc: 0.7443\n",
      "Epoch 00002: val_loss improved from 0.52616 to 0.52501, saving model to model/CNN_imageonly_full_final.h1\n",
      "635315/635315 [==============================] - 336s 529us/sample - loss: 0.5243 - binary_crossentropy: 0.5243 - acc: 0.7443 - val_loss: 0.5250 - val_binary_crossentropy: 0.5250 - val_acc: 0.7474\n",
      "Epoch 3/3\n",
      "635296/635315 [============================>.] - ETA: 0s - loss: 0.5199 - binary_crossentropy: 0.5199 - acc: 0.7478\n",
      "Epoch 00003: val_loss improved from 0.52501 to 0.52138, saving model to model/CNN_imageonly_full_final.h1\n",
      "635315/635315 [==============================] - 340s 536us/sample - loss: 0.5199 - binary_crossentropy: 0.5199 - acc: 0.7478 - val_loss: 0.5214 - val_binary_crossentropy: 0.5214 - val_acc: 0.7493\n"
     ]
    }
   ],
   "source": [
    "checkpoint_path = \"model/CNN_imageonly_full_final.h1\"\n",
    "if not os.path.exists(\"model\"):\n",
    "    os.mkdir(\"model\")\n",
    "\n",
    "model_checkpoint = keras.callbacks.ModelCheckpoint(checkpoint_path, monitor='val_loss', \n",
    "                                   verbose=1, save_best_only=True, \n",
    "                                   save_weights_only=False, mode='auto',\n",
    "                                   period=1)  #save_freq='epoch',   \n",
    "EPOCHS = 3\n",
    "early_stop = keras.callbacks.EarlyStopping(monitor='val_loss', patience=2)\n",
    "history = ImageonlyCNN.fit(\n",
    "  np.array(list(train_data['image'].values)), np.array(list(train_data['labels'].values)),\n",
    "  epochs=EPOCHS, validation_split = 0.2, verbose = 1,\n",
    "  callbacks=[early_stop, model_checkpoint])\n",
    "ImageonlyCNN.save(checkpoint_path)"
   ]
  },
  {
   "cell_type": "code",
   "execution_count": 31,
   "metadata": {},
   "outputs": [
    {
     "name": "stdout",
     "output_type": "stream",
     "text": [
      "CNN4Vec128LAYERS.h5\t       CNN_allVars_full_May29.h5py\n",
      "CNN4Vec_1.h5\t\t       CNN_allVars_full_May30.h5py\n",
      "CNN4Vec_2.h5\t\t       CNN_imageonly_full\n",
      "CNN4Vec_3.h5\t\t       CNN_imageonly_full_final.h1\n",
      "CNN4Vec_4.h5\t\t       CNN_imageonly_full.h1\n",
      "CNN4Vec512LAYERS.h5\t       CNN_imageonly_full_May27\n",
      "CNN4Vec_5.h5\t\t       CNN_imageonly_full_May27_2\n",
      "CNN4Vec_6.h5\t\t       CNN_imageonly_full_May29\n",
      "CNN4Vec_7.h5\t\t       CNN_imageonly_full_May29.h5py\n",
      "CNN4Vec_ascending2.h5\t       CNN_imageonly_full_May30.h1\n",
      "CNN4Vec_ascending.h5\t       CNN_imageonly_full_May30.h5py\n",
      "CNN_allVars_full_May29\t       CNN_imageonly_full_tensorboard\n",
      "CNN_allVars_full_May29_2.h5py\n",
      "_________________________________________________________________\n",
      "Layer (type)                 Output Shape              Param #   \n",
      "=================================================================\n",
      "input_1 (InputLayer)         (None, 16, 16, 1)         0         \n",
      "_________________________________________________________________\n",
      "conv1 (Conv2D)               (None, 16, 16, 32)        2080      \n",
      "_________________________________________________________________\n",
      "conv2 (Conv2D)               (None, 16, 16, 32)        16416     \n",
      "_________________________________________________________________\n",
      "conv3 (Conv2D)               (None, 16, 16, 32)        4128      \n",
      "_________________________________________________________________\n",
      "maxpool2x2 (MaxPooling2D)    (None, 8, 8, 32)          0         \n",
      "_________________________________________________________________\n",
      "flatten (Flatten)            (None, 2048)              0         \n",
      "_________________________________________________________________\n",
      "relu (Dense)                 (None, 256)               524544    \n",
      "_________________________________________________________________\n",
      "softmax (Dense)              (None, 2)                 514       \n",
      "=================================================================\n",
      "Total params: 547,682\n",
      "Trainable params: 547,682\n",
      "Non-trainable params: 0\n",
      "_________________________________________________________________\n",
      "198538/198538 [==============================] - 25s 127us/sample - loss: 0.5202 - binary_crossentropy: 0.5202 - acc: 0.7480\n"
     ]
    },
    {
     "data": {
      "text/plain": [
       "[0.5202404702528982, 0.5202401, 0.74804825]"
      ]
     },
     "execution_count": 31,
     "metadata": {},
     "output_type": "execute_result"
    }
   ],
   "source": [
    "!ls model\n",
    "best_model = tf.keras.models.load_model('model/CNN_imageonly_full_final.h1', custom_objects=None, compile=True)\n",
    "best_model.summary()\n",
    "results = best_model.evaluate(np.array(list(test_data['image'].to_dict().values())), np.array(list(test_data['labels'].to_dict().values())))\n",
    "results"
   ]
  },
  {
   "cell_type": "code",
   "execution_count": 32,
   "metadata": {},
   "outputs": [],
   "source": [
    "predict = best_model.predict(np.array(list(test_data['image'].to_dict().values())))"
   ]
  },
  {
   "cell_type": "code",
   "execution_count": 33,
   "metadata": {},
   "outputs": [],
   "source": [
    "plt.rcParams['figure.dpi'] = 70"
   ]
  },
  {
   "cell_type": "code",
   "execution_count": 34,
   "metadata": {},
   "outputs": [
    {
     "data": {
      "image/png": "[encoded data removed]",
      "text/plain": [
       "<Figure size 420x280 with 1 Axes>"
      ]
     },
     "metadata": {
      "needs_background": "light"
     },
     "output_type": "display_data"
    }
   ],
   "source": [
    "# Plot ROC\n",
    "from sklearn.metrics import roc_curve, auc\n",
    "fpr, tpr, thresholds = roc_curve(np.array(list(test_data['labels'].to_dict().values()))[:,1], predict[:,1])\n",
    "roc_auc = auc(fpr, tpr)\n",
    "plt.plot(fpr, tpr, lw=2, color='b', label='auc = %.3f' % (roc_auc))\n",
    "plt.plot([0, 1], [0, 1], linestyle='--', lw=2, color='k', label='random chance')\n",
    "plt.xlim([0, 1.0])\n",
    "plt.ylim([0, 1.0])\n",
    "plt.xlabel('False positive rate')\n",
    "plt.ylabel('True positive rate')\n",
    "plt.title('Receiver Operating Curve')\n",
    "plt.legend(loc=\"lower right\")\n",
    "plt.show()"
   ]
  },
  {
   "cell_type": "code",
   "execution_count": 35,
   "metadata": {},
   "outputs": [],
   "source": [
    "# plt.hist([predict[np.argwhere(np.array(list(test_data['labels'].to_dict().values()))[:, 1] == 1), 0].flatten(), predict[np.argwhere(np.array(list(test_data['labels'].to_dict().values()))[:, 0] == 1), 0].flatten()]\n",
    "#          , histtype = 'step', label = ['QCD', 'ZZ'])\n",
    "# plt.xlabel('Prediction')\n",
    "# plt.yscale('log')\n",
    "# plt.legend(loc=\"lower center\")\n",
    "# plt.show()"
   ]
  },
  {
   "cell_type": "markdown",
   "metadata": {},
   "source": [
    "# CNN for Image+Variables"
   ]
  },
  {
   "cell_type": "code",
   "execution_count": 36,
   "metadata": {},
   "outputs": [],
   "source": [
    "# the second input will be -> train_data[np.array(train_data.keys()[1:-1], dtype='str')].values"
   ]
  },
  {
   "cell_type": "code",
   "execution_count": 37,
   "metadata": {},
   "outputs": [],
   "source": [
    "def build_model_injected():\n",
    "    input2 = layers.Input(shape=(10,))\n",
    "    input1 = layers.Input(shape = (16, 16,1))\n",
    "    x = layers.Conv2D(32, (8, 8), activation='relu',padding='same', name = 'conv1')(input1)\n",
    "    x = layers.Conv2D(32, (4, 4), activation='relu',padding='same', name = 'conv2')(x)\n",
    "    x = layers.Conv2D(32, (2, 2), activation='relu',padding='same', name = 'conv3')(x)\n",
    "    x = layers.MaxPool2D((2, 2), name='maxpool2x2')(x)\n",
    "    x1 = layers.Flatten(name = 'flatten')(x)\n",
    "    x = layers.concatenate(inputs=([x1,input2]), axis=-1, name='concat')\n",
    "    x = layers.Dense(256, activation='relu', name='relu')(x)\n",
    "    output = layers.Dense(2, activation='softmax', name='softmax')(x)\n",
    "    model = models.Model(inputs=(input1,input2), outputs=output)\n",
    "    \n",
    "    opt=keras.optimizers.Adam(lr=0.001,beta_1=0.9, beta_2=0.999, amsgrad=False)\n",
    "    model.compile(loss='binary_crossentropy',\n",
    "                optimizer=opt,\n",
    "                metrics=['binary_crossentropy', 'accuracy'])\n",
    "    return model"
   ]
  },
  {
   "cell_type": "code",
   "execution_count": 38,
   "metadata": {},
   "outputs": [],
   "source": [
    "InjectedVarsCNN = build_model_injected()"
   ]
  },
  {
   "cell_type": "code",
   "execution_count": 39,
   "metadata": {},
   "outputs": [],
   "source": [
    "var = train_data[np.array(train_data.keys()[1:-1], dtype='str')].values"
   ]
  },
  {
   "cell_type": "code",
   "execution_count": 40,
   "metadata": {},
   "outputs": [
    {
     "name": "stdout",
     "output_type": "stream",
     "text": [
      "10/10 [==============================] - 0s 6ms/sample - loss: 1.2674 - binary_crossentropy: 1.2674 - acc: 0.3000\n",
      "[[0.7768239  0.22317612]\n",
      " [0.857334   0.14266597]\n",
      " [0.9060611  0.09393889]\n",
      " [0.73530823 0.26469177]\n",
      " [0.92653257 0.07346743]\n",
      " [0.81403375 0.18596625]\n",
      " [0.65066355 0.34933642]\n",
      " [0.7021375  0.2978625 ]\n",
      " [0.79003304 0.20996693]\n",
      " [0.8315692  0.16843084]]\n",
      "[1.2674468755722046, 1.2674469, 0.3]\n"
     ]
    }
   ],
   "source": [
    "X_batch = [np.array(list(train_data['image'].values))[:10], var[:10]]\n",
    "Y_batch = np.array(list(train_data['labels'].values))[:10]\n",
    "example_result = InjectedVarsCNN.predict(x = X_batch)\n",
    "results = InjectedVarsCNN.evaluate(x = X_batch, y = Y_batch )\n",
    "print(example_result)\n",
    "print(results)"
   ]
  },
  {
   "cell_type": "code",
   "execution_count": 41,
   "metadata": {},
   "outputs": [
    {
     "name": "stdout",
     "output_type": "stream",
     "text": [
      "Train on 635315 samples, validate on 158829 samples\n",
      "Epoch 1/4\n",
      "635232/635315 [============================>.] - ETA: 0s - loss: 0.5244 - binary_crossentropy: 0.5244 - acc: 0.7666\n",
      "Epoch 00001: val_loss improved from inf to 0.44347, saving model to model/CNN_allVars_full_final.h1\n",
      "635315/635315 [==============================] - 352s 555us/sample - loss: 0.5244 - binary_crossentropy: 0.5244 - acc: 0.7666 - val_loss: 0.4435 - val_binary_crossentropy: 0.4435 - val_acc: 0.8007\n",
      "Epoch 2/4\n",
      "635264/635315 [============================>.] - ETA: 0s - loss: 0.4353 - binary_crossentropy: 0.4354 - acc: 0.8054\n",
      "Epoch 00002: val_loss improved from 0.44347 to 0.42489, saving model to model/CNN_allVars_full_final.h1\n",
      "635315/635315 [==============================] - 351s 553us/sample - loss: 0.4354 - binary_crossentropy: 0.4354 - acc: 0.8054 - val_loss: 0.4249 - val_binary_crossentropy: 0.4249 - val_acc: 0.8118\n",
      "Epoch 3/4\n",
      "635296/635315 [============================>.] - ETA: 0s - loss: 0.4213 - binary_crossentropy: 0.4213 - acc: 0.8141\n",
      "Epoch 00003: val_loss did not improve from 0.42489\n",
      "635315/635315 [==============================] - 352s 554us/sample - loss: 0.4213 - binary_crossentropy: 0.4213 - acc: 0.8141 - val_loss: 0.4257 - val_binary_crossentropy: 0.4257 - val_acc: 0.8149\n",
      "Epoch 4/4\n",
      "635232/635315 [============================>.] - ETA: 0s - loss: 0.4160 - binary_crossentropy: 0.4160 - acc: 0.8176\n",
      "Epoch 00004: val_loss improved from 0.42489 to 0.40951, saving model to model/CNN_allVars_full_final.h1\n",
      "635315/635315 [==============================] - 353s 556us/sample - loss: 0.4160 - binary_crossentropy: 0.4160 - acc: 0.8176 - val_loss: 0.4095 - val_binary_crossentropy: 0.4095 - val_acc: 0.8220\n"
     ]
    }
   ],
   "source": [
    "checkpoint_path = \"model/CNN_allVars_full_final.h1\"\n",
    "if not os.path.exists(\"model\"):\n",
    "    os.mkdir(\"model\")\n",
    "\n",
    "model_checkpoint = keras.callbacks.ModelCheckpoint(checkpoint_path, monitor='val_loss', \n",
    "                                   verbose=1, save_best_only=True, \n",
    "                                   save_weights_only=False, mode='auto',\n",
    "                                   period=1) #save_freq='epoch'   \n",
    "EPOCHS = 4\n",
    "early_stop = keras.callbacks.EarlyStopping(monitor='val_loss', patience=2)\n",
    "history = InjectedVarsCNN.fit(\n",
    "  [np.array(list(train_data['image'].values)), var], np.array(list(train_data['labels'].values)),\n",
    "  epochs=EPOCHS, validation_split = 0.2, verbose = 1,\n",
    "  callbacks=[early_stop, model_checkpoint])\n",
    "\n",
    "InjectedVarsCNN.save(checkpoint_path)"
   ]
  },
  {
   "cell_type": "code",
   "execution_count": 42,
   "metadata": {},
   "outputs": [],
   "source": [
    "test_var = test_data[np.array(test_data.keys()[1:-1], dtype='str')].values\n",
    "# test_var = test_var.reshape(test_var.shape[0], test_var.shape[1], 1)\n",
    "# test_var.shape"
   ]
  },
  {
   "cell_type": "code",
   "execution_count": 43,
   "metadata": {},
   "outputs": [
    {
     "name": "stdout",
     "output_type": "stream",
     "text": [
      "CNN4Vec128LAYERS.h5\t   CNN_allVars_full_May29_2.h5py\n",
      "CNN4Vec_1.h5\t\t   CNN_allVars_full_May29.h5py\n",
      "CNN4Vec_2.h5\t\t   CNN_allVars_full_May30.h5py\n",
      "CNN4Vec_3.h5\t\t   CNN_imageonly_full\n",
      "CNN4Vec_4.h5\t\t   CNN_imageonly_full_final.h1\n",
      "CNN4Vec512LAYERS.h5\t   CNN_imageonly_full.h1\n",
      "CNN4Vec_5.h5\t\t   CNN_imageonly_full_May27\n",
      "CNN4Vec_6.h5\t\t   CNN_imageonly_full_May27_2\n",
      "CNN4Vec_7.h5\t\t   CNN_imageonly_full_May29\n",
      "CNN4Vec_ascending2.h5\t   CNN_imageonly_full_May29.h5py\n",
      "CNN4Vec_ascending.h5\t   CNN_imageonly_full_May30.h1\n",
      "CNN_allVars_full_final.h1  CNN_imageonly_full_May30.h5py\n",
      "CNN_allVars_full_May29\t   CNN_imageonly_full_tensorboard\n",
      "__________________________________________________________________________________________________\n",
      "Layer (type)                    Output Shape         Param #     Connected to                     \n",
      "==================================================================================================\n",
      "input_3 (InputLayer)            (None, 16, 16, 1)    0                                            \n",
      "__________________________________________________________________________________________________\n",
      "conv1 (Conv2D)                  (None, 16, 16, 32)   2080        input_3[0][0]                    \n",
      "__________________________________________________________________________________________________\n",
      "conv2 (Conv2D)                  (None, 16, 16, 32)   16416       conv1[0][0]                      \n",
      "__________________________________________________________________________________________________\n",
      "conv3 (Conv2D)                  (None, 16, 16, 32)   4128        conv2[0][0]                      \n",
      "__________________________________________________________________________________________________\n",
      "maxpool2x2 (MaxPooling2D)       (None, 8, 8, 32)     0           conv3[0][0]                      \n",
      "__________________________________________________________________________________________________\n",
      "flatten (Flatten)               (None, 2048)         0           maxpool2x2[0][0]                 \n",
      "__________________________________________________________________________________________________\n",
      "input_2 (InputLayer)            (None, 10)           0                                            \n",
      "__________________________________________________________________________________________________\n",
      "concat (Concatenate)            (None, 2058)         0           flatten[0][0]                    \n",
      "                                                                 input_2[0][0]                    \n",
      "__________________________________________________________________________________________________\n",
      "relu (Dense)                    (None, 256)          527104      concat[0][0]                     \n",
      "__________________________________________________________________________________________________\n",
      "softmax (Dense)                 (None, 2)            514         relu[0][0]                       \n",
      "==================================================================================================\n",
      "Total params: 550,242\n",
      "Trainable params: 550,242\n",
      "Non-trainable params: 0\n",
      "__________________________________________________________________________________________________\n",
      "198538/198538 [==============================] - 27s 137us/sample - loss: 0.4084 - binary_crossentropy: 0.4084 - acc: 0.8222\n"
     ]
    },
    {
     "data": {
      "text/plain": [
       "[0.4083809024167047, 0.4083816, 0.8221902]"
      ]
     },
     "execution_count": 43,
     "metadata": {},
     "output_type": "execute_result"
    }
   ],
   "source": [
    "!ls model\n",
    "best_model_allVars = tf.keras.models.load_model('model/CNN_allVars_full_final.h1', custom_objects=None, compile=True)\n",
    "best_model_allVars.summary()\n",
    "results_allVars = best_model_allVars.evaluate([np.array(list(test_data['image'].values)), test_var], np.array(list(test_data['labels'].values)))\n",
    "results_allVars"
   ]
  },
  {
   "cell_type": "code",
   "execution_count": 44,
   "metadata": {},
   "outputs": [],
   "source": [
    "predict = best_model_allVars.predict([np.array(list(test_data['image'].values)), test_var])"
   ]
  },
  {
   "cell_type": "code",
   "execution_count": 45,
   "metadata": {},
   "outputs": [
    {
     "data": {
      "image/png": "[encoded data removed]",
      "text/plain": [
       "<Figure size 420x280 with 1 Axes>"
      ]
     },
     "metadata": {
      "needs_background": "light"
     },
     "output_type": "display_data"
    }
   ],
   "source": [
    "# Plot ROC\n",
    "from sklearn.metrics import roc_curve, auc\n",
    "fpr, tpr, thresholds = roc_curve(np.array(list(test_data['labels'].values))[:,1], predict[:,1])\n",
    "roc_auc = auc(fpr, tpr)\n",
    "plt.plot(fpr, tpr, lw=2, color='b', label='auc = %.3f' % (roc_auc))\n",
    "plt.plot([0, 1], [0, 1], linestyle='--', lw=2, color='k', label='random chance')\n",
    "plt.xlim([0, 1.0])\n",
    "plt.ylim([0, 1.0])\n",
    "plt.xlabel('False positive rate')\n",
    "plt.ylabel('True positive rate')\n",
    "plt.title('Receiver Operating Curve')\n",
    "plt.legend(loc=\"lower right\")\n",
    "plt.show()\n",
    "# plt.savefig('plots/roc_image_allVars.png')"
   ]
  },
  {
   "cell_type": "code",
   "execution_count": null,
   "metadata": {},
   "outputs": [],
   "source": []
  }
 ],
 "metadata": {
  "kernelspec": {
   "display_name": "Python 3",
   "language": "python",
   "name": "python3"
  },
  "language_info": {
   "codemirror_mode": {
    "name": "ipython",
    "version": 3
   },
   "file_extension": ".py",
   "mimetype": "text/x-python",
   "name": "python",
   "nbconvert_exporter": "python",
   "pygments_lexer": "ipython3",
   "version": "3.7.3"
  }
 },
 "nbformat": 4,
 "nbformat_minor": 2
}
